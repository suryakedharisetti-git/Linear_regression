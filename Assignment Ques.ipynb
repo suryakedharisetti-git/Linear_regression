{
 "cells": [
  {
   "cell_type": "code",
   "execution_count": null,
   "id": "3c1ab5d8",
   "metadata": {},
   "outputs": [
    {
     "name": "stdout",
     "output_type": "stream",
     "text": [
      "0 0\n"
     ]
    }
   ],
   "source": [
    "def compareTriplets(a, b):\n",
    "    return [sum(x > y for x, y in zip(a, b)),\n",
    "            sum(x < y for x, y in zip(a, b))]\n",
    "\n",
    "# Input handling\n",
    "a = list(map(int, input().split()))\n",
    "b = list(map(int, input().split()))\n",
    "print(*compareTriplets(a, b))"
   ]
  },
  {
   "cell_type": "code",
   "execution_count": null,
   "id": "375a2b60",
   "metadata": {},
   "outputs": [
    {
     "name": "stdout",
     "output_type": "stream",
     "text": [
      "6\n"
     ]
    }
   ],
   "source": [
    "#1\n",
    "n, m, a = map(int, input().split())\n",
    "tiles = math.ceil(n / a) * math.ceil(m / a)\n",
    "print(tiles)"
   ]
  },
  {
   "cell_type": "code",
   "execution_count": null,
   "id": "6cfad4b6",
   "metadata": {},
   "outputs": [
    {
     "name": "stdout",
     "output_type": "stream",
     "text": [
      "word\n",
      "l10n\n",
      "i18n\n",
      "\n"
     ]
    }
   ],
   "source": [
    "#2\n",
    "n = int(input())\n",
    "for _ in range(n):\n",
    "    word = input()\n",
    "    if len(word) > 10:\n",
    "        word = f\"{word[0]}{len(word)-2}{word[-1]}\"\n",
    "    print(word)"
   ]
  },
  {
   "cell_type": "code",
   "execution_count": 18,
   "id": "1dd74c7f",
   "metadata": {},
   "outputs": [
    {
     "name": "stdout",
     "output_type": "stream",
     "text": [
      "5\n"
     ]
    }
   ],
   "source": [
    "#3 \n",
    "n, k = map(int, input().split())\n",
    "scores = list(map(int, input().split()))\n",
    "threshold = scores[k-1]\n",
    "statement= sum(1 for score in scores if score >= threshold and score > 0)\n",
    "print(statement)"
   ]
  },
  {
   "cell_type": "code",
   "execution_count": 19,
   "id": "ad553d75",
   "metadata": {},
   "outputs": [
    {
     "name": "stdout",
     "output_type": "stream",
     "text": [
      "1\n"
     ]
    }
   ],
   "source": [
    "#4\n",
    "x = 0\n",
    "for _ in range(int(input())):\n",
    "    statement = input()\n",
    "    x += 1 if '++' in statement else -1\n",
    "print(x)"
   ]
  },
  {
   "cell_type": "code",
   "execution_count": 27,
   "id": "faafef5e",
   "metadata": {},
   "outputs": [
    {
     "name": "stdout",
     "output_type": "stream",
     "text": [
      "YES\n"
     ]
    }
   ],
   "source": [
    "#5\n",
    "s = input()\n",
    "print(\"YES\" if \"0000000\" in s or \"1111111\" in s else \"NO\")"
   ]
  },
  {
   "cell_type": "code",
   "execution_count": null,
   "id": "b2256d0e",
   "metadata": {},
   "outputs": [
    {
     "name": "stdout",
     "output_type": "stream",
     "text": [
      "1\n"
     ]
    }
   ],
   "source": [
    "# 6\n",
    "n, m, a = map(int, input().split())\n",
    "tiles_n = (n + a - 1) // a\n",
    "tiles_m = (m + a - 1) // a\n",
    "print(tiles_n * tiles_m)"
   ]
  },
  {
   "cell_type": "code",
   "execution_count": null,
   "id": "0f9b89fa",
   "metadata": {},
   "outputs": [
    {
     "name": "stdout",
     "output_type": "stream",
     "text": [
      "0\n"
     ]
    }
   ],
   "source": [
    "#7\n",
    "n = int(input())\n",
    "matrix = [list(map(int, input().split())) for _ in range(n)]\n",
    "print(abs(sum(matrix[i][i] - matrix[i][n-1-i] for i in range(n))))"
   ]
  },
  {
   "cell_type": "code",
   "execution_count": null,
   "id": "6781d8fe",
   "metadata": {},
   "outputs": [
    {
     "name": "stdout",
     "output_type": "stream",
     "text": [
      "     #\n",
      "    ##\n",
      "   ###\n",
      "  ####\n",
      " #####\n",
      "######\n"
     ]
    }
   ],
   "source": [
    "#8\n",
    "def staircase(n):\n",
    "    for i in range(1, n+1):\n",
    "        print(' ' * (n - i) + '#' * i)\n",
    "n = int(input())\n",
    "staircase(n)"
   ]
  },
  {
   "cell_type": "code",
   "execution_count": null,
   "id": "a08112a1",
   "metadata": {},
   "outputs": [
    {
     "name": "stdout",
     "output_type": "stream",
     "text": [
      "2\n"
     ]
    }
   ],
   "source": [
    "#9\n",
    "n = int(input())\n",
    "candles = list(map(int, input().split()))\n",
    "print(candles.count(max(candles)))\n"
   ]
  },
  {
   "cell_type": "code",
   "execution_count": 2,
   "id": "d90bac93",
   "metadata": {},
   "outputs": [
    {
     "name": "stdout",
     "output_type": "stream",
     "text": [
      "24-hour format: 21\n"
     ]
    }
   ],
   "source": [
    "#10\n",
    "def timeConversion(s):\n",
    "    period = s[-2:]      \n",
    "    hh = int(s[:2])       \n",
    "    mmss = s[2:-2]        \n",
    "    \n",
    "    if period == \"AM\":\n",
    "        if hh == 12:\n",
    "            hh = 0\n",
    "    else:  # PM case\n",
    "        if hh != 12:\n",
    "            hh += 12\n",
    "    \n",
    "    return f\"{hh:02d}{mmss}\"\n",
    "\n",
    "s = input(\"Enter time in 12-hour format (e.g., 07:05:45PM): \").strip()\n",
    "print(\"24-hour format:\", timeConversion(s))\n",
    "\n",
    "\n"
   ]
  }
 ],
 "metadata": {
  "kernelspec": {
   "display_name": "Python 3",
   "language": "python",
   "name": "python3"
  },
  "language_info": {
   "codemirror_mode": {
    "name": "ipython",
    "version": 3
   },
   "file_extension": ".py",
   "mimetype": "text/x-python",
   "name": "python",
   "nbconvert_exporter": "python",
   "pygments_lexer": "ipython3",
   "version": "3.13.2"
  }
 },
 "nbformat": 4,
 "nbformat_minor": 5
}
